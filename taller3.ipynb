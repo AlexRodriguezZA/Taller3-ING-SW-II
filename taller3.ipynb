{
 "cells": [
  {
   "cell_type": "code",
   "execution_count": 1,
   "metadata": {},
   "outputs": [
    {
     "name": "stdout",
     "output_type": "stream",
     "text": [
      "Es el primer bloque del proyecto\n"
     ]
    }
   ],
   "source": [
    "pi = 3.14\n",
    "print(\"Es el primer bloque del proyecto\");\n",
    "\n"
   ]
  },
  {
   "cell_type": "code",
   "execution_count": 2,
   "metadata": {},
   "outputs": [
    {
     "name": "stdout",
     "output_type": "stream",
     "text": [
      "Hola mundo 3.14\n"
     ]
    }
   ],
   "source": [
    "print(\"Hola mundo\", pi)\n"
   ]
  },
  {
   "cell_type": "markdown",
   "metadata": {},
   "source": [
    "![imagenDeLaWeb](https://upload.wikimedia.org/wikipedia/commons/thumb/c/c3/Python-logo-notext.svg/1200px-Python-logo-notext.svg.png)"
   ]
  },
  {
   "cell_type": "markdown",
   "metadata": {},
   "source": [
    "Si se pudo utilizar la constante **pi** ya que la reconoce si en principio ejecutamos la primera celda donde se declara la constante, de lo contrario si no ejecutamos la primer celda son da un error."
   ]
  },
  {
   "cell_type": "markdown",
   "metadata": {},
   "source": [
    "# Universidad Autónoma de Entre Ríos\n",
    "## Facultad de Ciencia y Tecnología\n",
    "### Sede Concepción del Uruguay\n",
    "Licenciatura en Sistema de Información:\n",
    "- Primer año\n",
    "- Segundo año\n",
    "- **Tercer** año\n",
    "- Cuarto año\n",
    "- Quinto año"
   ]
  },
  {
   "cell_type": "markdown",
   "metadata": {},
   "source": [
    "# insertar foto"
   ]
  },
  {
   "cell_type": "markdown",
   "metadata": {},
   "source": [
    "![messi](messi.jpg)"
   ]
  }
 ],
 "metadata": {
  "interpreter": {
   "hash": "fe610729788b7d083e2a91bafdebf5c83070aba17cda01d77f154bfd2ee16d61"
  },
  "kernelspec": {
   "display_name": "Python 3.8.1 32-bit",
   "language": "python",
   "name": "python3"
  },
  "language_info": {
   "codemirror_mode": {
    "name": "ipython",
    "version": 3
   },
   "file_extension": ".py",
   "mimetype": "text/x-python",
   "name": "python",
   "nbconvert_exporter": "python",
   "pygments_lexer": "ipython3",
   "version": "3.8.1"
  },
  "orig_nbformat": 4
 },
 "nbformat": 4,
 "nbformat_minor": 2
}
